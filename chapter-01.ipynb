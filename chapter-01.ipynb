{
 "cells": [
  {
   "cell_type": "markdown",
   "metadata": {},
   "source": [
    "# Fundamental Principles of Counting\n",
    "\n",
    "## The Rules of Sum and Product\n",
    "\n",
    "### The Rule of Sum\n",
    "\n",
    "If the first task can be done in $m$ ways and the second task can be done in $n$ ways, then the first task followed by the second task can be done in $m + n$ ways."
   ]
  },
  {
   "cell_type": "markdown",
   "metadata": {},
   "source": [
    "#### Example 1.1\n",
    "\n",
    "##### Problem Statement:\n",
    "A college library has 40 textbooks on sociology and 50 textbooks on anthropology. How many different textbooks can a student choose from if they want to study either sociology or anthropology?\n",
    "\n",
    "##### Solution Explanation:\n",
    "By applying the rule of sum, the total number of textbooks available for selection is the sum of the sociology and anthropology textbooks. Therefore, the student can choose from a total of 90 textbooks (40 sociology + 50 anthropology) to study either subject."
   ]
  },
  {
   "cell_type": "code",
   "execution_count": 21,
   "metadata": {},
   "outputs": [
    {
     "data": {
      "text/plain": [
       "90"
      ]
     },
     "execution_count": 21,
     "metadata": {},
     "output_type": "execute_result"
    }
   ],
   "source": [
    "# Number of textbooks for each subject\n",
    "textbooks_sociology = 40\n",
    "textbooks_anthropology = 50\n",
    "\n",
    "# Total number of textbooks\n",
    "total_textbooks = textbooks_sociology + textbooks_anthropology\n",
    "\n",
    "total_textbooks\n"
   ]
  },
  {
   "cell_type": "markdown",
   "metadata": {},
   "source": [
    "#### Example 1.2\n",
    "\n",
    "## Problem Statement:\n",
    "\n",
    "A computer science instructor has 21 different introductory textbooks, with 7 books each on C++, Java, and Perl. How many different books can the instructor recommend to a student who wants to learn a first programming language?\n",
    "\n",
    "## Solution Explanation:\n",
    "\n",
    "The rule of sum can be applied in this scenario because the student can only learn one programming language at a time. Therefore, the instructor can recommend any one of the 21 books, as there is no overlap between the books for different programming languages.\n"
   ]
  },
  {
   "cell_type": "code",
   "execution_count": 22,
   "metadata": {},
   "outputs": [
    {
     "data": {
      "text/plain": [
       "21"
      ]
     },
     "execution_count": 22,
     "metadata": {},
     "output_type": "execute_result"
    }
   ],
   "source": [
    "# Number of books for each programming language\n",
    "books_cpp = 7\n",
    "books_java = 7\n",
    "books_perl = 7\n",
    "\n",
    "# Total number of recommendations\n",
    "total_recommendations = books_cpp + books_java + books_perl\n",
    "\n",
    "total_recommendations"
   ]
  },
  {
   "cell_type": "markdown",
   "metadata": {},
   "source": [
    "#### Example 1.3\n",
    "\n",
    "The computer science instructor of Example 1.2 has two colleagues. One of these colleagues has three textbooks on the analysis of algorithms, and the other has five such textbooks. If n denotes the maximum number of different books on this topic that this instructor can borrow from them, then 5 ≤ n ≤ 8, for here both colleagues may own copies of the same textbook(s)."
   ]
  },
  {
   "cell_type": "markdown",
   "metadata": {},
   "source": [
    "##### Explanation\n",
    "\n",
    "To solve this problem in Python, you need to determine the range of possible values for \\( n \\), which represents the maximum number of different books on the analysis of algorithms that the instructor can borrow. \n",
    "\n",
    "Given:\n",
    "- One colleague has 3 textbooks.\n",
    "- The other colleague has 5 textbooks.\n",
    "- The possible number of different books ranges from 5 (if there are 3 common books) to 8 (if there are no common books).\n",
    "\n",
    "Here’s how you can represent this in Python:\n",
    "\n",
    "```python\n",
    "# Number of textbooks each colleague has\n",
    "textbooks_colleague_1 = 3\n",
    "textbooks_colleague_2 = 5\n",
    "\n",
    "# Minimum possible number of different books (if all 3 books from colleague 1 are also owned by colleague 2)\n",
    "min_books = max(textbooks_colleague_1, textbooks_colleague_2)\n",
    "\n",
    "# Maximum possible number of different books (if no books are the same between the two colleagues)\n",
    "max_books = textbooks_colleague_1 + textbooks_colleague_2\n",
    "\n",
    "min_books, max_books\n",
    "```\n",
    "\n",
    "Running this code will give you the range of possible values for \\( n \\), represented by `min_books` and `max_books`."
   ]
  },
  {
   "cell_type": "code",
   "execution_count": 23,
   "metadata": {},
   "outputs": [
    {
     "data": {
      "text/plain": [
       "(5, 8)"
      ]
     },
     "execution_count": 23,
     "metadata": {},
     "output_type": "execute_result"
    }
   ],
   "source": [
    "# Number of textbooks each colleague has\n",
    "textbooks_colleague_1 = 3\n",
    "textbooks_colleague_2 = 5\n",
    "\n",
    "# Minimum possible number of different books (if all 3 books from colleague 1 are also owned by colleague 2)\n",
    "min_books = max(textbooks_colleague_1, textbooks_colleague_2)\n",
    "\n",
    "# Maximum possible number of different books (if no books are the same between the two colleagues)\n",
    "max_books = textbooks_colleague_1 + textbooks_colleague_2\n",
    "\n",
    "min_books, max_books\n"
   ]
  },
  {
   "cell_type": "code",
   "execution_count": null,
   "metadata": {},
   "outputs": [],
   "source": []
  }
 ],
 "metadata": {
  "kernelspec": {
   "display_name": "Python 3",
   "language": "python",
   "name": "python3"
  },
  "language_info": {
   "codemirror_mode": {
    "name": "ipython",
    "version": 3
   },
   "file_extension": ".py",
   "mimetype": "text/x-python",
   "name": "python",
   "nbconvert_exporter": "python",
   "pygments_lexer": "ipython3",
   "version": "3.12.5"
  }
 },
 "nbformat": 4,
 "nbformat_minor": 2
}
